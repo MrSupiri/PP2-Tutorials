{
 "cells": [
  {
   "cell_type": "markdown",
   "metadata": {},
   "source": [
    "# Task 1 – A Simple Program"
   ]
  },
  {
   "cell_type": "markdown",
   "metadata": {},
   "source": [
    "### Length"
   ]
  },
  {
   "cell_type": "markdown",
   "metadata": {},
   "source": [
    "#### Centimetre to Inches"
   ]
  },
  {
   "cell_type": "code",
   "execution_count": 11,
   "metadata": {},
   "outputs": [],
   "source": [
    "import java.util.Scanner;\n",
    "\n",
    "public class CentimetreInches{\n",
    "    public static void main(String args[]){\n",
    "        System.out.print(\"Enter number of Centimetre : \");\n",
    "        Scanner sc = new Scanner(System.in);\n",
    "        double input = sc.nextDouble();\n",
    "        double output = input / 2.54;\n",
    "        System.out.printf(\"%s Centimetres in Inches is %s\", input, output);\n",
    "    }\n",
    "}"
   ]
  },
  {
   "cell_type": "code",
   "execution_count": 12,
   "metadata": {},
   "outputs": [
    {
     "name": "stdout",
     "output_type": "stream",
     "text": [
      "Enter number of Centimetre : 1\n",
      "1.0 Centimetres in Inches is 0.39370078740157477"
     ]
    }
   ],
   "source": [
    "new CentimetreInches().main(new String[0]);"
   ]
  },
  {
   "cell_type": "markdown",
   "metadata": {},
   "source": [
    "#### Inches to Centimetre"
   ]
  },
  {
   "cell_type": "code",
   "execution_count": 13,
   "metadata": {},
   "outputs": [],
   "source": [
    "import java.util.Scanner;\n",
    "\n",
    "public class InchesCentimetre{\n",
    "    public static void main(String args[]){\n",
    "        System.out.print(\"Enter number of Inches : \");\n",
    "        Scanner sc = new Scanner(System.in);\n",
    "        double input = sc.nextDouble();\n",
    "        double output = input * 2.54;\n",
    "        System.out.printf(\"%s Inches in Centimetres is %s\", input, output);\n",
    "    }\n",
    "}"
   ]
  },
  {
   "cell_type": "code",
   "execution_count": 14,
   "metadata": {},
   "outputs": [
    {
     "name": "stdout",
     "output_type": "stream",
     "text": [
      "Enter number of Inches : 1\n",
      "1.0 Inches in Centimetres is 2.54"
     ]
    }
   ],
   "source": [
    "new InchesCentimetre().main(new String[0]);"
   ]
  },
  {
   "cell_type": "markdown",
   "metadata": {},
   "source": [
    "#### Metre to Feet"
   ]
  },
  {
   "cell_type": "code",
   "execution_count": 19,
   "metadata": {},
   "outputs": [],
   "source": [
    "import java.util.Scanner;\n",
    "\n",
    "public class MetreFeet{\n",
    "    public static void main(String args[]){\n",
    "        System.out.print(\"Enter number of Metres : \");\n",
    "        Scanner sc = new Scanner(System.in);\n",
    "        double input = sc.nextDouble();\n",
    "        double output = input * 3.281;\n",
    "        System.out.printf(\"%s Metres in Feet is %s\", input, output);\n",
    "    }\n",
    "}"
   ]
  },
  {
   "cell_type": "code",
   "execution_count": 21,
   "metadata": {},
   "outputs": [
    {
     "name": "stdout",
     "output_type": "stream",
     "text": [
      "Enter number of Metres : 1\n",
      "1.0 Metres in Feet is 3.281"
     ]
    }
   ],
   "source": [
    "new MetreFeet().main(new String[0]);"
   ]
  },
  {
   "cell_type": "markdown",
   "metadata": {},
   "source": [
    "#### Feet to Metre"
   ]
  },
  {
   "cell_type": "code",
   "execution_count": 23,
   "metadata": {},
   "outputs": [
    {
     "name": "stdout",
     "output_type": "stream",
     "text": [
      "Enter number of Feet : 1\n",
      "1.0 Feet in Metre is 0.305"
     ]
    }
   ],
   "source": [
    "import java.util.Scanner;\n",
    "\n",
    "public class FeetMetre{\n",
    "    public static void main(String args[]){\n",
    "        System.out.print(\"Enter number of Feet : \");\n",
    "        Scanner sc = new Scanner(System.in);\n",
    "        double input = sc.nextDouble();\n",
    "        double output = input / 3.281;\n",
    "        System.out.printf(\"%s Feet in Metre is %.3f\", input, output);\n",
    "    }\n",
    "}\n",
    "new FeetMetre().main(new String[0]);"
   ]
  },
  {
   "cell_type": "markdown",
   "metadata": {},
   "source": [
    "##### Kilometre to Miles"
   ]
  },
  {
   "cell_type": "code",
   "execution_count": 24,
   "metadata": {},
   "outputs": [
    {
     "name": "stdout",
     "output_type": "stream",
     "text": [
      "Enter number of Kilometres : 1\n",
      "1.0 Kilometres in Miles is 0.622"
     ]
    }
   ],
   "source": [
    "import java.util.Scanner;\n",
    "\n",
    "public class KilometreMiles{\n",
    "    public static void main(String args[]){\n",
    "        System.out.print(\"Enter number of Kilometres : \");\n",
    "        Scanner sc = new Scanner(System.in);\n",
    "        double input = sc.nextDouble();\n",
    "        double output = input /  1.609;\n",
    "        System.out.printf(\"%s Kilometres in Miles is %.3f\", input, output);\n",
    "    }\n",
    "}\n",
    "new KilometreMiles().main(new String[0]);"
   ]
  },
  {
   "cell_type": "markdown",
   "metadata": {},
   "source": [
    "##### Miles to Kilometres"
   ]
  },
  {
   "cell_type": "code",
   "execution_count": 26,
   "metadata": {},
   "outputs": [
    {
     "name": "stdout",
     "output_type": "stream",
     "text": [
      "Enter number of Miles : 1\n",
      "1.0 Miles in Kilometres is 1.609"
     ]
    }
   ],
   "source": [
    "import java.util.Scanner;\n",
    "\n",
    "public class MilesKilometres{\n",
    "    public static void main(String args[]){\n",
    "        System.out.print(\"Enter number of Miles : \");\n",
    "        Scanner sc = new Scanner(System.in);\n",
    "        double input = sc.nextDouble();\n",
    "        double output = input * 1.609;\n",
    "        System.out.printf(\"%s Miles in Kilometres is %.3f\", input, output);\n",
    "    }\n",
    "}\n",
    "new MilesKilometres().main(new String[0]);"
   ]
  },
  {
   "cell_type": "markdown",
   "metadata": {},
   "source": [
    "### Weight"
   ]
  },
  {
   "cell_type": "markdown",
   "metadata": {},
   "source": [
    "##### Grams to Ounces"
   ]
  },
  {
   "cell_type": "code",
   "execution_count": 28,
   "metadata": {},
   "outputs": [
    {
     "name": "stdout",
     "output_type": "stream",
     "text": [
      "Enter number of Grams : 1\n",
      "1.0 Grams in Ounces is 0.035"
     ]
    }
   ],
   "source": [
    "import java.util.Scanner;\n",
    "\n",
    "public class GramsOunces{\n",
    "    public static void main(String args[]){\n",
    "        System.out.print(\"Enter number of Grams : \");\n",
    "        Scanner sc = new Scanner(System.in);\n",
    "        double input = sc.nextDouble();\n",
    "        double output = input / 28.35;\n",
    "        System.out.printf(\"%s Grams in Ounces is %.3f\", input, output);\n",
    "    }\n",
    "}\n",
    "new GramsOunces().main(new String[0]);"
   ]
  },
  {
   "cell_type": "markdown",
   "metadata": {},
   "source": [
    "##### Ounces to Grams"
   ]
  },
  {
   "cell_type": "code",
   "execution_count": 30,
   "metadata": {},
   "outputs": [
    {
     "name": "stdout",
     "output_type": "stream",
     "text": [
      "Enter number of Ounces : 1\n",
      "1.0 Ounces in Grams is 28.350"
     ]
    }
   ],
   "source": [
    "import java.util.Scanner;\n",
    "\n",
    "public class OuncesGrams{\n",
    "    public static void main(String args[]){\n",
    "        System.out.print(\"Enter number of Ounces : \");\n",
    "        Scanner sc = new Scanner(System.in);\n",
    "        double input = sc.nextDouble();\n",
    "        double output = input * 28.35;\n",
    "        System.out.printf(\"%s Ounces in Grams is %.3f\", input, output);\n",
    "    }\n",
    "}\n",
    "new OuncesGrams().main(new String[0]);"
   ]
  },
  {
   "cell_type": "markdown",
   "metadata": {},
   "source": [
    "##### Kilograms to Pounds"
   ]
  },
  {
   "cell_type": "code",
   "execution_count": 31,
   "metadata": {},
   "outputs": [
    {
     "name": "stdout",
     "output_type": "stream",
     "text": [
      "Enter number of Kilograms : 1\n",
      "1.0 Kilograms in Pounds is 2.205"
     ]
    }
   ],
   "source": [
    "import java.util.Scanner;\n",
    "\n",
    "public class KilogramsPounds{\n",
    "    public static void main(String args[]){\n",
    "        System.out.print(\"Enter number of Kilograms : \");\n",
    "        Scanner sc = new Scanner(System.in);\n",
    "        double input = sc.nextDouble();\n",
    "        double output = input * 2.205;\n",
    "        System.out.printf(\"%s Kilograms in Pounds is %.3f\", input, output);\n",
    "    }\n",
    "}\n",
    "new KilogramsPounds().main(new String[0]);"
   ]
  },
  {
   "cell_type": "markdown",
   "metadata": {},
   "source": [
    "##### Pounds to Kilograms"
   ]
  },
  {
   "cell_type": "code",
   "execution_count": 32,
   "metadata": {},
   "outputs": [
    {
     "name": "stdout",
     "output_type": "stream",
     "text": [
      "Enter number of Pounds : 1\n",
      "1.0 Pounds in Kilograms is 0.454"
     ]
    }
   ],
   "source": [
    "import java.util.Scanner;\n",
    "\n",
    "public class PoundsKilograms{\n",
    "    public static void main(String args[]){\n",
    "        System.out.print(\"Enter number of Pounds : \");\n",
    "        Scanner sc = new Scanner(System.in);\n",
    "        double input = sc.nextDouble();\n",
    "        double output = input / 2.205;\n",
    "        System.out.printf(\"%s Pounds in Kilograms is %.3f\", input, output);\n",
    "    }\n",
    "}\n",
    "new PoundsKilograms().main(new String[0]);"
   ]
  },
  {
   "cell_type": "markdown",
   "metadata": {},
   "source": [
    "### Volume"
   ]
  },
  {
   "cell_type": "markdown",
   "metadata": {},
   "source": [
    "##### Millilitres to Fluid Ounces"
   ]
  },
  {
   "cell_type": "code",
   "execution_count": 37,
   "metadata": {},
   "outputs": [
    {
     "name": "stdout",
     "output_type": "stream",
     "text": [
      "Enter number of Millilitres : 1\n",
      "1.0 Millilitres in  Fluid Ounces is 0.035"
     ]
    }
   ],
   "source": [
    "import java.util.Scanner;\n",
    "\n",
    "public class MillilitresFluidOunces{\n",
    "    public static void main(String args[]){\n",
    "        System.out.print(\"Enter number of Millilitres : \");\n",
    "        Scanner sc = new Scanner(System.in);\n",
    "        double input = sc.nextDouble();\n",
    "        double output = input / 28.413;\n",
    "        System.out.printf(\"%s Millilitres in  Fluid Ounces is %.3f\", input, output);\n",
    "    }\n",
    "}\n",
    "new MillilitresFluidOunces().main(new String[0]);"
   ]
  },
  {
   "cell_type": "markdown",
   "metadata": {},
   "source": [
    "##### Fluid Ounces to Millilitres"
   ]
  },
  {
   "cell_type": "code",
   "execution_count": 38,
   "metadata": {},
   "outputs": [
    {
     "name": "stdout",
     "output_type": "stream",
     "text": [
      "Enter number of Fluid Ounces : 1\n",
      "1.0 Fluid Ounces in Millilitres is 28.413"
     ]
    }
   ],
   "source": [
    "import java.util.Scanner;\n",
    "\n",
    "public class FluidOuncesMillilitres{\n",
    "    public static void main(String args[]){\n",
    "        System.out.print(\"Enter number of Fluid Ounces : \");\n",
    "        Scanner sc = new Scanner(System.in);\n",
    "        double input = sc.nextDouble();\n",
    "        double output = input * 28.413;\n",
    "        System.out.printf(\"%s Fluid Ounces in Millilitres is %.3f\", input, output);\n",
    "    }\n",
    "}\n",
    "new FluidOuncesMillilitres().main(new String[0]);"
   ]
  },
  {
   "cell_type": "markdown",
   "metadata": {},
   "source": [
    "##### Litres to Quarts"
   ]
  },
  {
   "cell_type": "code",
   "execution_count": 36,
   "metadata": {},
   "outputs": [
    {
     "name": "stdout",
     "output_type": "stream",
     "text": [
      "Enter number of Litres : 1\n",
      "1.0 Litres in Quarts is 0.880"
     ]
    }
   ],
   "source": [
    "import java.util.Scanner;\n",
    "\n",
    "public class LitresQuarts{\n",
    "    public static void main(String args[]){\n",
    "        System.out.print(\"Enter number of Litres : \");\n",
    "        Scanner sc = new Scanner(System.in);\n",
    "        double input = sc.nextDouble();\n",
    "        double output = input / 1.137;\n",
    "        System.out.printf(\"%s Litres in Quarts is %.3f\", input, output);\n",
    "    }\n",
    "}\n",
    "new LitresQuarts().main(new String[0]);"
   ]
  },
  {
   "cell_type": "markdown",
   "metadata": {},
   "source": [
    "##### Quarts to Litres"
   ]
  },
  {
   "cell_type": "code",
   "execution_count": 40,
   "metadata": {},
   "outputs": [
    {
     "name": "stdout",
     "output_type": "stream",
     "text": [
      "Enter number of Quarts : 1\n",
      "1.0 Quarts in Litres is 1.137"
     ]
    }
   ],
   "source": [
    "import java.util.Scanner;\n",
    "\n",
    "public class QuartsLitres{\n",
    "    public static void main(String args[]){\n",
    "        System.out.print(\"Enter number of Quarts : \");\n",
    "        Scanner sc = new Scanner(System.in);\n",
    "        double input = sc.nextDouble();\n",
    "        double output = input * 1.137;\n",
    "        System.out.printf(\"%s Quarts in Litres is %.3f\", input, output);\n",
    "    }\n",
    "}\n",
    "new QuartsLitres().main(new String[0]);"
   ]
  },
  {
   "cell_type": "markdown",
   "metadata": {},
   "source": [
    "# Task 2 – A Slightly Less Simple Program"
   ]
  },
  {
   "cell_type": "markdown",
   "metadata": {},
   "source": [
    "### Temperature"
   ]
  },
  {
   "cell_type": "markdown",
   "metadata": {},
   "source": [
    "###### Flow Chart\n",
    "![alt text](https://i.imgur.com/8eHmsCm.png)"
   ]
  },
  {
   "cell_type": "markdown",
   "metadata": {},
   "source": [
    "###### pseudocode\n",
    "```\n",
    "BEGIN\n",
    "    OUTPUT Enter 1 to Convert Celsius to Fahrenheit\n",
    "    OUTPUT Enter 2 to Convert Fahrenheit to Celsius\n",
    "    GET option\n",
    "    SET i = 0\n",
    "    WHILE i < 5\n",
    "        i = i+1\n",
    "        IF option == 1\n",
    "            OUTPUT Enter number of Celsius : \n",
    "            INPUT input\n",
    "            OUTPUT {input} Celsius in Fahrenheit is {input * 9 / 5 + 32}\n",
    "        ELSE IF option == 2\n",
    "            OUTPUT Enter number of Celsius : \n",
    "            GET input\n",
    "            OUTPUT {input} Fahrenheit in Celsius {(input - 32)* 5 / 9}\n",
    "        ELSE\n",
    "            OUTPUT Invalid Input, Please enter 1 or 2\n",
    "```        "
   ]
  },
  {
   "cell_type": "markdown",
   "metadata": {},
   "source": [
    "###### Test Case\n",
    "| INPUT         | Execpeted Output | OUTPUT  |\n",
    "| ------------- |:----------------:| -------:|\n",
    "|1, 50 | 122.0 | 122.000|\n",
    "|g| Error | Invalid Input, Please enter 1 or 2|\n",
    "|2, 50| 10.0 | 10.000|\n",
    "|1,0|32.0|32.000|\n",
    "|2,0|-17.778| -17.778|"
   ]
  },
  {
   "cell_type": "code",
   "execution_count": 47,
   "metadata": {},
   "outputs": [
    {
     "name": "stdout",
     "output_type": "stream",
     "text": [
      "Enter 1 to Convert Celsius to Fahrenheit\n",
      "Enter 2 to Convert Fahrenheit to Celsius\n",
      "> 1\n",
      "Enter number of Celsius : 50\n",
      "50.0 Celsius in Fahrenheit is 122.000\n",
      "Enter 1 to Convert Celsius to Fahrenheit\n",
      "Enter 2 to Convert Fahrenheit to Celsius\n",
      "> g\n",
      "Invalid Input, Please enter 1 or 2\n",
      "Enter 1 to Convert Celsius to Fahrenheit\n",
      "Enter 2 to Convert Fahrenheit to Celsius\n",
      "> 2\n",
      "Enter number of Fahrenheit : 50\n",
      "50.0 Fahrenheit in Celsius is 10.000\n",
      "Enter 1 to Convert Celsius to Fahrenheit\n",
      "Enter 2 to Convert Fahrenheit to Celsius\n",
      "> 1\n",
      "Enter number of Celsius : 0\n",
      "0.0 Celsius in Fahrenheit is 32.000\n",
      "Enter 1 to Convert Celsius to Fahrenheit\n",
      "Enter 2 to Convert Fahrenheit to Celsius\n",
      "> 2\n",
      "Enter number of Fahrenheit : 0\n",
      "0.0 Fahrenheit in Celsius is -17.778\n"
     ]
    }
   ],
   "source": [
    "public class TemperatureConverter{\n",
    "\n",
    "    public static void main(String[] args) {\n",
    "        for(int i=0; i < 5 ; i++){\n",
    "            System.out.println(\"Enter 1 to Convert Celsius to Fahrenheit\");\n",
    "            System.out.print(\"Enter 2 to Convert Fahrenheit to Celsius\\n> \");\n",
    "            Scanner sc = new Scanner(System.in);\n",
    "            if(!sc.hasNextInt()){\n",
    "                System.out.println(\"Invalid Input, Please enter 1 or 2\");\n",
    "            }\n",
    "            else{\n",
    "                int option = sc.nextInt();\n",
    "                if(option == 1){\n",
    "                    System.out.print(\"Enter number of Celsius : \");\n",
    "                    double input = sc.nextDouble();\n",
    "                    double output = input * 9 / 5 + 32;\n",
    "                    System.out.printf(\"%s Celsius in Fahrenheit is %.3f\\n\", input, output);\n",
    "                }\n",
    "                else if(option == 2){\n",
    "                    System.out.print(\"Enter number of Fahrenheit : \");\n",
    "                    double input = sc.nextDouble();\n",
    "                    double output = (input - 32)* 5 / 9;\n",
    "                    System.out.printf(\"%s Fahrenheit in Celsius is %.3f\\n\", input, output);\n",
    "                }\n",
    "                else{\n",
    "                    System.out.println(\"Invalid Input, Please enter 1 or 2\");\n",
    "                }\n",
    "            }\n",
    "        }\n",
    "    }\n",
    "}\n",
    "new TemperatureConverter().main(new String[0]);"
   ]
  },
  {
   "cell_type": "markdown",
   "metadata": {},
   "source": [
    "### Geometry"
   ]
  },
  {
   "cell_type": "markdown",
   "metadata": {},
   "source": [
    "###### Flow Chart\n",
    "![alt text](https://i.imgur.com/KnIA3ys.png)"
   ]
  },
  {
   "cell_type": "markdown",
   "metadata": {},
   "source": [
    "###### Pseudocode\n",
    "```\n",
    "BEGIN\n",
    "    SET counter = 0\n",
    "    WHILE counter < 5\n",
    "        OUTPUT Enter Radius : \n",
    "        INPUT radius\n",
    "        OUTPUT Circumference is {2 * PI * radius}\n",
    "        OUTPUT Area is {PI * radius * radius}\n",
    "END\n",
    "```"
   ]
  },
  {
   "cell_type": "markdown",
   "metadata": {},
   "source": [
    "###### Test Cases\n",
    "| INPUT         | Execpeted Output | OUTPUT  |\n",
    "| ------------- |:----------------:| -------:|\n",
    "|7| 44, 154|Circumference is 43.982297150257104, Area is 153.93804002589985|\n",
    "|14| 88, 616|Circumference is 87.96459430051421, Area is 615.7521601035994|\n",
    "|5|31.428571429, 78.571428571|Circumference is 31.41592653589793, Area is 78.53981633974483|\n",
    "|g|Error|java.util.InputMismatchException: null|\n"
   ]
  },
  {
   "cell_type": "code",
   "execution_count": 48,
   "metadata": {},
   "outputs": [
    {
     "name": "stdout",
     "output_type": "stream",
     "text": [
      "Enter Radius : 7\n",
      "Circumference is 43.982297150257104\n",
      "Area is 153.93804002589985\n",
      "Enter Radius : 14\n",
      "Circumference is 87.96459430051421\n",
      "Area is 615.7521601035994\n",
      "Enter Radius : 5\n",
      "Circumference is 31.41592653589793\n",
      "Area is 78.53981633974483\n",
      "Enter Radius : g\n"
     ]
    },
    {
     "ename": "EvalException",
     "evalue": "null",
     "output_type": "error",
     "traceback": [
      "\u001b[1m\u001b[31m---------------------------------------------------------------------------\u001b[0m",
      "\u001b[1m\u001b[31mjava.util.InputMismatchException: null\u001b[0m",
      "\u001b[1m\u001b[31m\tat java.base/java.util.Scanner.throwFor(Scanner.java:939)\u001b[0m",
      "\u001b[1m\u001b[31m\tat java.base/java.util.Scanner.next(Scanner.java:1594)\u001b[0m",
      "\u001b[1m\u001b[31m\tat java.base/java.util.Scanner.nextDouble(Scanner.java:2564)\u001b[0m",
      "\u001b[1m\u001b[31m\tat Geometry.main(#67:7)\u001b[0m",
      "\u001b[1m\u001b[31m\tat .(#68:1)\u001b[0m"
     ]
    }
   ],
   "source": [
    "public class Geometry{\n",
    "\n",
    "    public static void main(String[] args) {\n",
    "        for(int i=0; i < 5 ; i++){\n",
    "            System.out.print(\"Enter Radius : \");\n",
    "            Scanner sc = new Scanner(System.in);\n",
    "            double radius = sc.nextDouble();\n",
    "            double area = Math.PI * radius * radius;\n",
    "            double circumference = 2 * Math.PI * radius;\n",
    "            System.out.println(\"Circumference is \" + circumference);\n",
    "            System.out.println(\"Area is \" + area);\n",
    "        }\n",
    "    }\n",
    "}\n",
    "new Geometry().main(new String[0]);"
   ]
  },
  {
   "cell_type": "markdown",
   "metadata": {},
   "source": [
    "### Nutrition"
   ]
  },
  {
   "cell_type": "markdown",
   "metadata": {},
   "source": [
    "###### Flow Chart\n",
    "![alt text](https://i.imgur.com/GayiEnv.png)"
   ]
  },
  {
   "cell_type": "markdown",
   "metadata": {},
   "source": [
    "###### Pseudocode\n",
    "```\n",
    "BEGIN\n",
    "    SET counter = 0\n",
    "    WHILE counter < 5\n",
    "        OUTPUT Enter Height in meters : \n",
    "        INPUT height\n",
    "        OUTPUT Enter Weight in kilograms : \n",
    "        INPUT weight\n",
    "        OUTPUT Your BMI is {weight/(height*height)}\n",
    "END        \n",
    "```"
   ]
  },
  {
   "cell_type": "markdown",
   "metadata": {},
   "source": [
    "###### Test Cases\n",
    "| INPUT         | Execpeted Output | OUTPUT  |\n",
    "| ------------- |:----------------:| -------:|\n",
    "|1.72, 80| 27.0 | 27.041644131963228|\n",
    "|0, 1.72| Error | Infinity |\n",
    "|-10, 5| Error | 0.05|\n",
    "|14, -50| Error | -25.510204081632658|\n",
    "|0,0|Error|NaN|"
   ]
  },
  {
   "cell_type": "code",
   "execution_count": 51,
   "metadata": {},
   "outputs": [
    {
     "name": "stdout",
     "output_type": "stream",
     "text": [
      "Enter Height in meters : 1.72\n",
      "Enter Weight in kilograms : 80\n",
      "Your BMI is 27.041644131963228\n",
      "Enter Height in meters : 0\n",
      "Enter Weight in kilograms : 1.72\n",
      "Your BMI is Infinity\n",
      "Enter Height in meters : -10\n",
      "Enter Weight in kilograms : 5\n",
      "Your BMI is 0.05\n",
      "Enter Height in meters : 1.4\n",
      "Enter Weight in kilograms : -50\n",
      "Your BMI is -25.510204081632658\n",
      "Enter Height in meters : 0\n",
      "Enter Weight in kilograms : 0\n",
      "Your BMI is NaN\n"
     ]
    }
   ],
   "source": [
    "public class Nutrition{\n",
    "\n",
    "    public static void main(String[] args) {\n",
    "        for(int i=0; i < 5 ; i++){\n",
    "            Scanner sc = new Scanner(System.in);\n",
    "            System.out.print(\"Enter Height in meters : \");\n",
    "            double height = sc.nextDouble();\n",
    "            System.out.print(\"Enter Weight in kilograms : \");\n",
    "            double weight = sc.nextDouble();\n",
    "            double bmi = weight/(height*height);\n",
    "            System.out.println(\"Your BMI is \" + bmi);\n",
    "        }\n",
    "    }\n",
    "}\n",
    "new Nutrition().main(new String[0]);"
   ]
  },
  {
   "cell_type": "markdown",
   "metadata": {},
   "source": [
    "### Finance"
   ]
  },
  {
   "cell_type": "markdown",
   "metadata": {},
   "source": [
    "###### Flow Chart\n",
    "![alt text](https://i.imgur.com/r1IiX2S.png)"
   ]
  },
  {
   "cell_type": "markdown",
   "metadata": {},
   "source": [
    "###### Pseudocode\n",
    "```\n",
    "BEGIN\n",
    "    SET counter = 0\n",
    "    WHILE counter < 5\n",
    "        OUTPUT Enter Amount : \n",
    "        INPUT amount\n",
    "        OUTPUT Enter Annual Interest Rate : \n",
    "        INPUT annualInterest\n",
    "        OUTPUT Enter Time in Years : \n",
    "        INPUT time\n",
    "        OUTPUT Your Interest is {amount*(annualInterest/100)*time}\n",
    "END        \n",
    "```"
   ]
  },
  {
   "cell_type": "markdown",
   "metadata": {},
   "source": [
    "###### Test Cases\n",
    "| INPUT         | Execpeted Output | OUTPUT  |\n",
    "| ------------- |:----------------:| -------:|\n",
    "|5000, 6.5, 8| 2600 | 2600.0|\n",
    "|0,0,0|0|0.0|\n",
    "|0,10,4|0|0.0|\n",
    "|10000, 10, 50| 50000| 50000.0|\n",
    "|1000,0,10| 0 | 0.0|"
   ]
  },
  {
   "cell_type": "code",
   "execution_count": 56,
   "metadata": {},
   "outputs": [
    {
     "name": "stdout",
     "output_type": "stream",
     "text": [
      "Enter Amount : 5000\n",
      "Enter Annual Interest Rate : 6.5\n",
      "Enter Time in Years : 8\n",
      "Your Interest is 2600.0\n",
      "Enter Amount : 0\n",
      "Enter Annual Interest Rate : 0\n",
      "Enter Time in Years : 0\n",
      "Your Interest is 0.0\n",
      "Enter Amount : 0\n",
      "Enter Annual Interest Rate : 10\n",
      "Enter Time in Years : 4\n",
      "Your Interest is 0.0\n",
      "Enter Amount : 10000\n",
      "Enter Annual Interest Rate : 10\n",
      "Enter Time in Years : 50\n",
      "Your Interest is 50000.0\n",
      "Enter Amount : 10000\n",
      "Enter Annual Interest Rate : 0\n",
      "Enter Time in Years : 10\n",
      "Your Interest is 0.0\n"
     ]
    }
   ],
   "source": [
    "public class Finance{\n",
    "\n",
    "    public static void main(String[] args) {\n",
    "        for(int i=0; i < 5 ; i++){\n",
    "            Scanner sc = new Scanner(System.in);\n",
    "            System.out.print(\"Enter Amount : \");\n",
    "            double amount = sc.nextDouble();\n",
    "            System.out.print(\"Enter Annual Interest Rate : \");\n",
    "            double annualInterest = sc.nextDouble();\n",
    "            System.out.print(\"Enter Time in Years : \");\n",
    "            double time = sc.nextInt();\n",
    "            \n",
    "            double interest = amount*(annualInterest/100)*time;\n",
    "            System.out.println(\"Your Interest is \" + interest);\n",
    "        }\n",
    "    }\n",
    "}\n",
    "new Finance().main(new String[0]);"
   ]
  }
 ],
 "metadata": {
  "kernelspec": {
   "display_name": "Java",
   "language": "java",
   "name": "java"
  },
  "language_info": {
   "codemirror_mode": "java",
   "file_extension": ".jshell",
   "mimetype": "text/x-java-source",
   "name": "Java",
   "pygments_lexer": "java",
   "version": "11.0.3+7-Ubuntu-1ubuntu218.04.1"
  }
 },
 "nbformat": 4,
 "nbformat_minor": 2
}
