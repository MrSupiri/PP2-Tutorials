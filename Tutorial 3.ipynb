{
 "cells": [
  {
   "cell_type": "markdown",
   "metadata": {},
   "source": [
    "## Task 1 – Enhancing a Conversion Program"
   ]
  },
  {
   "cell_type": "markdown",
   "metadata": {},
   "source": [
    "### Length\n",
    "###### Flow Chart\n",
    "![alt text](https://i.imgur.com/CJrhmvL.png)"
   ]
  },
  {
   "cell_type": "code",
   "execution_count": 9,
   "metadata": {},
   "outputs": [
    {
     "name": "stdout",
     "output_type": "stream",
     "text": [
      "Press 1 for Centimetre to Inches\n",
      "Press 2 for Inches to Centimetre\n",
      "Enter the Option : 2\n",
      "Enter number of Inches : 1\n",
      "1.0 Inches in Centimetres is 2.54"
     ]
    }
   ],
   "source": [
    "import java.util.Scanner;\n",
    "\n",
    "public class CentimetreInches{\n",
    "    public static void main(String args[]){\n",
    "        Scanner sc = new Scanner(System.in);\n",
    "        System.out.println(\"Press 1 for Centimetre to Inches\");\n",
    "        System.out.println(\"Press 2 for Inches to Centimetre\");\n",
    "        System.out.print(\"Enter the Option : \");\n",
    "        String option = sc.nextLine();\n",
    "        if(option.equals(\"1\")){\n",
    "            System.out.print(\"Enter number of Centimetre : \");\n",
    "            double input = sc.nextDouble();\n",
    "            double output = input / 2.54;\n",
    "            System.out.printf(\"%s Centimetres in Inches is %s\", input, output);\n",
    "        }\n",
    "        else if (option.equals(\"2\")){\n",
    "            System.out.print(\"Enter number of Inches : \");\n",
    "            double input = sc.nextDouble();\n",
    "            double output = input * 2.54;\n",
    "            System.out.printf(\"%s Inches in Centimetres is %s\", input, output);\n",
    "        }\n",
    "        else{\n",
    "            System.out.println(\"Invalid option\");\n",
    "        }\n",
    "    }\n",
    "}\n",
    "new CentimetreInches().main(new String[0]);"
   ]
  },
  {
   "cell_type": "markdown",
   "metadata": {},
   "source": [
    "### Weight\n",
    "###### Flow Chart\n",
    "![alt text](https://i.imgur.com/q36Dr2J.png)"
   ]
  },
  {
   "cell_type": "code",
   "execution_count": 11,
   "metadata": {},
   "outputs": [
    {
     "name": "stdout",
     "output_type": "stream",
     "text": [
      "Press 1 for Grams to Ounces\n",
      "Press 2 for Ounces to Grams\n",
      "Enter the Option : 2\n",
      "Enter number of Ounces : 1\n",
      "1.0 Ounces in Grams is 28.350"
     ]
    }
   ],
   "source": [
    "import java.util.Scanner;\n",
    "\n",
    "public class GramsOunces{\n",
    "    public static void main(String args[]){\n",
    "        Scanner sc = new Scanner(System.in);\n",
    "        System.out.println(\"Press 1 for Grams to Ounces\");\n",
    "        System.out.println(\"Press 2 for Ounces to Grams\");\n",
    "        System.out.print(\"Enter the Option : \");\n",
    "        String option = sc.nextLine();\n",
    "        if(option.equals(\"1\")){\n",
    "            System.out.print(\"Enter number of Grams : \");\n",
    "            double input = sc.nextDouble();\n",
    "            double output = input / 28.35;\n",
    "            System.out.printf(\"%s Grams in Ounces is %.3f\", input, output);\n",
    "        }\n",
    "        else if (option.equals(\"2\")){\n",
    "            System.out.print(\"Enter number of Ounces : \");\n",
    "            double input = sc.nextDouble();\n",
    "            double output = input * 28.35;\n",
    "            System.out.printf(\"%s Ounces in Grams is %.3f\", input, output);\n",
    "        }\n",
    "        else{\n",
    "            System.out.println(\"Invalid option\");\n",
    "        }\n",
    "    }\n",
    "}\n",
    "new GramsOunces().main(new String[0]);"
   ]
  },
  {
   "cell_type": "markdown",
   "metadata": {},
   "source": [
    "### Volume\n",
    "###### Flow Chart\n",
    "![alt text](https://i.imgur.com/yxtztQs.png)"
   ]
  },
  {
   "cell_type": "code",
   "execution_count": 14,
   "metadata": {},
   "outputs": [
    {
     "name": "stdout",
     "output_type": "stream",
     "text": [
      "Press 1 for Millilitres to Fluid Ounces\n",
      "Press 2 for Fluid Ounces to Millilitres\n",
      "Enter the Option : 2\n",
      "Enter number of Fluid Ounces : 1\n",
      "1.0 Fluid Ounces in Millilitres is 28.413"
     ]
    }
   ],
   "source": [
    "import java.util.Scanner;\n",
    "\n",
    "public class MillilitresFluidOunces{\n",
    "    public static void main(String args[]){\n",
    "        Scanner sc = new Scanner(System.in);\n",
    "        System.out.println(\"Press 1 for Millilitres to Fluid Ounces\");\n",
    "        System.out.println(\"Press 2 for Fluid Ounces to Millilitres\");\n",
    "        System.out.print(\"Enter the Option : \");\n",
    "        String option = sc.nextLine();\n",
    "        if(option.equals(\"1\")){\n",
    "            System.out.print(\"Enter number of Millilitres : \");\n",
    "            double input = sc.nextDouble();\n",
    "            double output = input / 28.413;\n",
    "            System.out.printf(\"%s Millilitres in  Fluid Ounces is %.3f\", input, output);\n",
    "        }\n",
    "        else if (option.equals(\"2\")){\n",
    "            System.out.print(\"Enter number of Fluid Ounces : \");\n",
    "            double input = sc.nextDouble();\n",
    "            double output = input * 28.413;\n",
    "            System.out.printf(\"%s Fluid Ounces in Millilitres is %.3f\", input, output);\n",
    "        }\n",
    "        else{\n",
    "            System.out.println(\"Invalid option\");\n",
    "        }\n",
    "    }\n",
    "}\n",
    "new MillilitresFluidOunces().main(new String[0]);"
   ]
  },
  {
   "cell_type": "markdown",
   "metadata": {},
   "source": [
    "## Task 2 – Enhancing the Grade Calculation Example discussed in the lecture\n",
    "###### Flow Chart\n",
    "![alt text](https://i.imgur.com/UyAdlGj.png)"
   ]
  },
  {
   "cell_type": "code",
   "execution_count": 41,
   "metadata": {},
   "outputs": [
    {
     "name": "stdout",
     "output_type": "stream",
     "text": [
      "Enter the Score : 90\n",
      "\n",
      "Did you pass the exam? (y/n):n\n",
      "FI (Fail/Incomplete)\n"
     ]
    }
   ],
   "source": [
    "import java.util.Scanner;\n",
    "\n",
    "public class EnhancingGrade{\n",
    "    public static void main(String args[]){\n",
    "        Scanner sc = new Scanner(System.in);\n",
    "        System.out.print(\"Enter the Score : \");\n",
    "        double score = sc.nextDouble();\n",
    "        System.out.print(\"\\nDid you pass the exam? (y/n):\");\n",
    "        String pass = sc.next().toLowerCase();\n",
    "        if(pass.equals(\"n\") || score < 50){\n",
    "            System.out.println(\"FI (Fail/Incomplete)\");\n",
    "        }\n",
    "        else{\n",
    "            System.out.println(\"Pass\");\n",
    "        }\n",
    "    }\n",
    "}\n",
    "new EnhancingGrade().main(new String[0]);"
   ]
  },
  {
   "cell_type": "markdown",
   "metadata": {},
   "source": [
    "## Task 3 – Income Tax Program\n",
    "##### Pseudocode\n",
    "```\n",
    "BEGIN\n",
    "    OUTPUT Enter your income :  \n",
    "    INPUT income\n",
    "    IF income < 0:\n",
    "        OUTPUT Invalid Income\n",
    "    ELSE IF income <= 18200:\n",
    "        Your Tax is 0\n",
    "    ELSE IF income <= 37000:\n",
    "        Your Tax is (income*0.19)\n",
    "    ELSE IF income <= 80000:\n",
    "        Your Tax is 3572+(income*0.325)\n",
    "    ELSE IF income <= 180000:\n",
    "        Your Tax is 17547+(income*0.37)\n",
    "    ELSE:\n",
    "        Your Tax is 54547+(income*0.45)\n",
    "END\n",
    "```"
   ]
  },
  {
   "cell_type": "code",
   "execution_count": 29,
   "metadata": {},
   "outputs": [
    {
     "name": "stdout",
     "output_type": "stream",
     "text": [
      "Enter your income : 200000\n",
      "Your Tax is 144547.0 "
     ]
    }
   ],
   "source": [
    "import java.util.Scanner;\n",
    "\n",
    "public class TaxProgram{\n",
    "    public static void main(String args[]){\n",
    "        System.out.print(\"Enter your income : \");\n",
    "        Scanner sc = new Scanner(System.in);\n",
    "        double income = sc.nextDouble();\n",
    "        if(income < 0){\n",
    "            System.out.print(\"Invalid Income\");\n",
    "        }\n",
    "        else if(income <= 18200){\n",
    "            System.out.printf(\"Your Tax is %s \", 0);\n",
    "        }\n",
    "        else if(income <= 37000){\n",
    "            System.out.printf(\"Your Tax is %s \", (income*0.19));\n",
    "        }\n",
    "        else if(income <= 80000){\n",
    "            System.out.printf(\"Your Tax is %s \", 3572+(income*0.325));\n",
    "        }\n",
    "        else if(income <= 180000){\n",
    "            System.out.printf(\"Your Tax is %s \", 17547+(income*0.37));\n",
    "        }\n",
    "        else{\n",
    "            System.out.printf(\"Your Tax is %s \", 54547+(income*0.45));\n",
    "        }\n",
    "    }\n",
    "}\n",
    "new TaxProgram().main(new String[0]);"
   ]
  }
 ],
 "metadata": {
  "kernelspec": {
   "display_name": "Java",
   "language": "java",
   "name": "java"
  },
  "language_info": {
   "codemirror_mode": "java",
   "file_extension": ".jshell",
   "mimetype": "text/x-java-source",
   "name": "Java",
   "pygments_lexer": "java",
   "version": "11.0.3+7-Ubuntu-1ubuntu218.04.1"
  }
 },
 "nbformat": 4,
 "nbformat_minor": 2
}
