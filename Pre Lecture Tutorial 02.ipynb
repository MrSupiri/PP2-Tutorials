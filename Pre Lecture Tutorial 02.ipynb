{
 "cells": [
  {
   "cell_type": "markdown",
   "metadata": {},
   "source": [
    "### Exercise 2.1: Writing loops\n",
    "Write loops to produce the following output:\n",
    "```\n",
    "a. 0, 5, 10, 15, 20, 25 ... 100\n",
    "b. 1, 2, 4, 8, 16, 32, ... 1024\n",
    "```"
   ]
  },
  {
   "cell_type": "code",
   "execution_count": 8,
   "metadata": {},
   "outputs": [
    {
     "name": "stdout",
     "output_type": "stream",
     "text": [
      "0,5,10,15,20,25,30,35,40,45,50,55,60,65,70,75,80,85,90,95,100\n",
      "2,4,8,16,32,64,128,256,512,1024\n"
     ]
    }
   ],
   "source": [
    "public class NumberPrinter {\n",
    "    public static void main(String[] args) {\n",
    "        for(int i=0; i<=100; i += 5){\n",
    "            if(i == 100){\n",
    "                System.out.println(i);\n",
    "            }\n",
    "            else{\n",
    "                System.out.printf(\"%s,\", i);\n",
    "            }\n",
    "        }\n",
    "        for(int i=1; Math.pow(2, i)<=1024; i++){\n",
    "            if( Math.pow(2, i) == 1024){\n",
    "                System.out.println((int) Math.pow(2, i));\n",
    "            }\n",
    "            else{\n",
    "                System.out.printf(\"%s,\", (int) Math.pow(2, i));\n",
    "            }\n",
    "        }\n",
    "    }\n",
    "}\n",
    "new NumberPrinter().main(new String[0]);"
   ]
  },
  {
   "cell_type": "markdown",
   "metadata": {},
   "source": [
    "### Exercise 2.2: Temperature conversion\n",
    "\n",
    "Write a program so that it uses a loop to convert Celsius to Fahrenheit. Allow the user to choose the starting and finishing values, and the increment that the table uses.\n",
    "```\n",
    "Enter start : 10\n",
    "Enter finish : 20\n",
    "Enter increment: 2\n",
    "Celsius Fahrenheit\n",
    "------------------\n",
    "10\n",
    "12\n",
    "14\n",
    "16\n",
    "18\n",
    "20\n",
    "```"
   ]
  },
  {
   "cell_type": "code",
   "execution_count": 7,
   "metadata": {},
   "outputs": [
    {
     "name": "stdout",
     "output_type": "stream",
     "text": [
      "Enter start     : 10\n",
      "Enter finish    : 20\n",
      "Enter increment : 2\n",
      "\n",
      "Celsius  Fahrenheit\n",
      "-------------------\n",
      "  10.0\t   50.0\n",
      "  12.0\t   53.6\n",
      "  14.0\t   57.2\n",
      "  16.0\t   60.8\n",
      "  18.0\t   64.4\n",
      "  20.0\t   68.0\n"
     ]
    }
   ],
   "source": [
    "public class TemperatureConversion {\n",
    "    public static void main(String[] args) {\n",
    "        Scanner sc = new Scanner(System.in);\n",
    "        System.out.print(\"Enter start     : \");\n",
    "        double startTemp = sc.nextDouble();\n",
    "        System.out.print(\"Enter finish    : \");\n",
    "        double endTemp = sc.nextDouble();\n",
    "        System.out.print(\"Enter increment : \");\n",
    "        double increment = sc.nextDouble();\n",
    "        System.out.println();\n",
    "        System.out.println(\"Celsius  Fahrenheit\");\n",
    "        System.out.println(\"-------------------\");\n",
    "        for(double i=startTemp; i<=endTemp; i += increment){\n",
    "            System.out.println(\"  \" + i + \"\\t   \"+ celsiusToFahrenheit(i));\n",
    "        }\n",
    "    }\n",
    "\n",
    "    private static double celsiusToFahrenheit(double celsius){\n",
    "        return (celsius * 9/5) + 32;\n",
    "    }\n",
    "}\n",
    "new TemperatureConversion().main(new String[0]);"
   ]
  },
  {
   "cell_type": "markdown",
   "metadata": {},
   "source": [
    "### Exercise 2.3: User friendliness\n",
    "Dsign and write a program which prints the following message:\n",
    "```\n",
    "Do you really want to run this program? (yes/no)\n",
    "```\n",
    "The program loops, printing just this message, until the user enters &#39;n&#39; or &#39;N&#39;. If\n",
    "the user enters a character other than &#39;n&#39;, &#39;N&#39;, &#39;y&#39; or &#39;Y&#39; the message\n",
    "Invalid selection is entered and the prompt is redisplayed."
   ]
  },
  {
   "cell_type": "code",
   "execution_count": 4,
   "metadata": {},
   "outputs": [
    {
     "name": "stdout",
     "output_type": "stream",
     "text": [
      "Do you really want to run this program? (yes/no)\n",
      "yes\n",
      "Invalid selection\n",
      "Do you really want to run this program? (yes/no)\n",
      "y\n",
      "Do you really want to run this program? (yes/no)\n",
      "no\n",
      "Invalid selection\n",
      "Do you really want to run this program? (yes/no)\n",
      "n\n"
     ]
    }
   ],
   "source": [
    "public class UserFriendliness {\n",
    "    public static void main(String[] args) {\n",
    "        Scanner sc = new Scanner(System.in);\n",
    "        for (;;) {\n",
    "            System.out.println(\"Do you really want to run this program? (yes/no)\");\n",
    "            String input = sc.next().toLowerCase();\n",
    "            switch (input) {\n",
    "                case \"n\":\n",
    "                    return;\n",
    "                case \"y\":\n",
    "                    break;\n",
    "                default:\n",
    "                    System.out.println(\"Invalid selection\");\n",
    "            }\n",
    "        }\n",
    "    }\n",
    "}\n",
    "new UserFriendliness().main(new String[0]);"
   ]
  },
  {
   "cell_type": "markdown",
   "metadata": {},
   "source": [
    "### Exercise 2.4: Printing patterns\n",
    "Write a program which reads in an integer and prints a triangle of the\n",
    "specified number of lines, in the following format:\n",
    "```\n",
    "How many lines? 4\n",
    " \n",
    " *\n",
    " **\n",
    " ***\n",
    " ****\n",
    "```"
   ]
  },
  {
   "cell_type": "code",
   "execution_count": 2,
   "metadata": {},
   "outputs": [
    {
     "name": "stdout",
     "output_type": "stream",
     "text": [
      "How many lines? 4\n",
      "\n",
      "*\n",
      "**\n",
      "***\n",
      "****\n"
     ]
    }
   ],
   "source": [
    "public class PrintingPatterns {\n",
    "    public static void main(String[] args) {\n",
    "        System.out.print(\"How many lines? \");\n",
    "        Scanner sc = new Scanner(System.in);\n",
    "        int nLines = sc.nextInt();\n",
    "        for(int i= 0; i<=nLines; i++){\n",
    "            for(int y=0; y<i; y++)\n",
    "                System.out.print(\"*\");\n",
    "            System.out.println();\n",
    "        }\n",
    "    }\n",
    "}\n",
    "new PrintingPatterns().main(new String[0]);"
   ]
  },
  {
   "cell_type": "markdown",
   "metadata": {},
   "source": [
    "Use this method in a program which reads in an integer and prints a\n",
    "triangle of the specified number of lines, in the following format:\n",
    "```\n",
    "How many lines? 5\n",
    "\n",
    " *********\n",
    "  *******\n",
    "   *****\n",
    "    ***\n",
    "     *\n",
    "```"
   ]
  },
  {
   "cell_type": "code",
   "execution_count": 21,
   "metadata": {},
   "outputs": [
    {
     "name": "stdout",
     "output_type": "stream",
     "text": [
      "How many lines? 5\n",
      "\n",
      "*********\n",
      " *******\n",
      "  *****\n",
      "   ***\n",
      "    *\n"
     ]
    }
   ],
   "source": [
    "public class PrintingPatternsTwo {\n",
    "    public static void main(String[] args) {\n",
    "        System.out.print(\"How many lines? \");\n",
    "        Scanner sc = new Scanner(System.in);\n",
    "        int nLines = sc.nextInt();\n",
    "        System.out.println();\n",
    "        for(int i=nLines; i>0 ;i--){\n",
    "        \n",
    "            for(int x=0; x<nLines-i;x++){\n",
    "                System.out.print(\" \");\n",
    "            }\n",
    "            \n",
    "            for(int y=0;y<(i*2)-1;y++){\n",
    "                System.out.print(\"*\");\n",
    "            }\n",
    "            \n",
    "            System.out.println();\n",
    "        }\n",
    "    }\n",
    "}\n",
    "new PrintingPatternsTwo().main(new String[0]);"
   ]
  },
  {
   "cell_type": "code",
   "execution_count": null,
   "metadata": {},
   "outputs": [],
   "source": []
  }
 ],
 "metadata": {
  "kernelspec": {
   "display_name": "Java",
   "language": "java",
   "name": "java"
  },
  "language_info": {
   "codemirror_mode": "java",
   "file_extension": ".jshell",
   "mimetype": "text/x-java-source",
   "name": "Java",
   "pygments_lexer": "java",
   "version": "11.0.3+7-Ubuntu-1ubuntu218.04.1"
  }
 },
 "nbformat": 4,
 "nbformat_minor": 2
}
