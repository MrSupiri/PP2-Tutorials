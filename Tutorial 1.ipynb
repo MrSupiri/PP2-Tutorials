{
 "cells": [
  {
   "cell_type": "markdown",
   "metadata": {},
   "source": [
    "#### 1) Write Java code to display “Hello World” and compile and execute the program"
   ]
  },
  {
   "cell_type": "code",
   "execution_count": 1,
   "metadata": {},
   "outputs": [],
   "source": [
    "public class HelloWorld{\n",
    "    public static void main(String args[]){\n",
    "        System.out.println(\"Hello World\");\n",
    "    }\n",
    "}"
   ]
  },
  {
   "cell_type": "code",
   "execution_count": 2,
   "metadata": {},
   "outputs": [
    {
     "name": "stdout",
     "output_type": "stream",
     "text": [
      "Hello World\n"
     ]
    }
   ],
   "source": [
    "new HelloWorld().main(new String[0]);"
   ]
  },
  {
   "cell_type": "markdown",
   "metadata": {},
   "source": [
    "#### 2) Write Java code to display your name and compile and execute the program"
   ]
  },
  {
   "cell_type": "code",
   "execution_count": 3,
   "metadata": {},
   "outputs": [],
   "source": [
    "public class PrintName{\n",
    "    public static void main(String args[]){\n",
    "        System.out.println(\"Isala Piyarisi\");\n",
    "    }\n",
    "}"
   ]
  },
  {
   "cell_type": "code",
   "execution_count": 4,
   "metadata": {},
   "outputs": [
    {
     "name": "stdout",
     "output_type": "stream",
     "text": [
      "Isala Piyarisi\n"
     ]
    }
   ],
   "source": [
    "new PrintName().main(new String[0]);"
   ]
  },
  {
   "cell_type": "markdown",
   "metadata": {},
   "source": [
    "#### 3. Write Java code that prompts the user to enter his or her height and assigns the user’s input to a variable named height and display the same"
   ]
  },
  {
   "cell_type": "code",
   "execution_count": 19,
   "metadata": {},
   "outputs": [],
   "source": [
    "import java.util.Scanner;\n",
    "\n",
    "public class GetHeight{\n",
    "    public static void main(String args[]){\n",
    "        System.out.print(\"Enter your Height: \");\n",
    "        Scanner sc = new Scanner(System.in);\n",
    "        int height = sc.nextInt();\n",
    "        System.out.printf(\"Your Favorite height is %s\",height);\n",
    "    }\n",
    "}"
   ]
  },
  {
   "cell_type": "code",
   "execution_count": 20,
   "metadata": {},
   "outputs": [
    {
     "name": "stdout",
     "output_type": "stream",
     "text": [
      "Enter your Height: 185\n",
      "Your Favorite height is 185"
     ]
    }
   ],
   "source": [
    "new GetHeight().main(new String[0]);"
   ]
  },
  {
   "cell_type": "markdown",
   "metadata": {},
   "source": [
    "#### 4. Write Java code that prompts the user to enter his or her favorite color and assigns the user’s input to a variable named color and display the same"
   ]
  },
  {
   "cell_type": "code",
   "execution_count": 16,
   "metadata": {},
   "outputs": [],
   "source": [
    "import java.util.Scanner;\n",
    "\n",
    "public class GetColor{\n",
    "    public static void main(String args[]){\n",
    "        System.out.print(\"Enter your favorite color: \");\n",
    "        Scanner sc = new Scanner(System.in);\n",
    "        String color = sc.nextLine();\n",
    "        System.out.printf(\"Your Favorite Color is %s\",color);\n",
    "    }\n",
    "}"
   ]
  },
  {
   "cell_type": "code",
   "execution_count": 18,
   "metadata": {},
   "outputs": [
    {
     "name": "stdout",
     "output_type": "stream",
     "text": [
      "Enter your favorite color: Blue\n",
      "Your Favorite Color is Blue"
     ]
    }
   ],
   "source": [
    "new GetColor().main(new String[0]);"
   ]
  },
  {
   "cell_type": "markdown",
   "metadata": {},
   "source": [
    "#### 5. Find the incorrect assignment statements from the following: \n",
    "- Var1 = “7689” ;\n",
    "- Var2 == “Hi” ;\n",
    "- Var3 = Hello 3 = Var4 ;"
   ]
  },
  {
   "cell_type": "code",
   "execution_count": 24,
   "metadata": {},
   "outputs": [
    {
     "ename": "CompilationException",
     "evalue": "",
     "output_type": "error",
     "traceback": [
      "\u001b[1m\u001b[30m|   \u001b[1m\u001b[30m\u001b[0m\u001b[1m\u001b[30m\u001b[41mVar1\u001b[0m\u001b[1m\u001b[30m = \"7689\";\u001b[0m",
      "\u001b[1m\u001b[31mcannot find symbol\u001b[0m",
      "\u001b[1m\u001b[31m  symbol:   variable Var1\u001b[0m",
      ""
     ]
    }
   ],
   "source": [
    "Var1 = \"7689\";"
   ]
  },
  {
   "cell_type": "code",
   "execution_count": 25,
   "metadata": {},
   "outputs": [
    {
     "ename": "CompilationException",
     "evalue": "",
     "output_type": "error",
     "traceback": [
      "\u001b[1m\u001b[30m|   \u001b[1m\u001b[30m\u001b[0m\u001b[1m\u001b[30m\u001b[41mVar2\u001b[0m\u001b[1m\u001b[30m == \"Hi\";\u001b[0m",
      "\u001b[1m\u001b[31mcannot find symbol\u001b[0m",
      "\u001b[1m\u001b[31m  symbol:   variable Var2\u001b[0m",
      ""
     ]
    }
   ],
   "source": [
    "Var2 == \"Hi\";"
   ]
  },
  {
   "cell_type": "code",
   "execution_count": 26,
   "metadata": {},
   "outputs": [
    {
     "ename": "CompilationException",
     "evalue": "",
     "output_type": "error",
     "traceback": [
      "\u001b[1m\u001b[30m|   \u001b[1m\u001b[30mVar3 = Hello\u001b[0m\u001b[1m\u001b[30m\u001b[41m\u001b[0m\u001b[1m\u001b[30m 3 = Var4;\u001b[0m",
      "\u001b[1m\u001b[31m';' expected\u001b[0m",
      "",
      "\u001b[1m\u001b[30m|   \u001b[1m\u001b[30mVar3 = Hello 3 = \u001b[0m\u001b[1m\u001b[30m\u001b[41mVar4\u001b[0m\u001b[1m\u001b[30m;\u001b[0m",
      "\u001b[1m\u001b[31mnot a statement\u001b[0m",
      "",
      "\u001b[1m\u001b[30m|   \u001b[1m\u001b[30m\u001b[0m\u001b[1m\u001b[30m\u001b[41mVar3\u001b[0m\u001b[1m\u001b[30m = Hello 3 = Var4;\u001b[0m",
      "\u001b[1m\u001b[31mcannot find symbol\u001b[0m",
      "\u001b[1m\u001b[31m  symbol:   variable Var3\u001b[0m",
      "",
      "\u001b[1m\u001b[30m|   \u001b[1m\u001b[30mVar3 = \u001b[0m\u001b[1m\u001b[30m\u001b[41mHello\u001b[0m\u001b[1m\u001b[30m 3 = Var4;\u001b[0m",
      "\u001b[1m\u001b[31mcannot find symbol\u001b[0m",
      "\u001b[1m\u001b[31m  symbol:   variable Hello\u001b[0m",
      "",
      "\u001b[1m\u001b[30m|   \u001b[1m\u001b[30m\u001b[0m\u001b[1m\u001b[30m\u001b[41mVar3 = Hello 3 = Var4;\u001b[0m\u001b[1m\u001b[30m\u001b[0m",
      "\u001b[1m\u001b[31mmissing return statement\u001b[0m",
      ""
     ]
    }
   ],
   "source": [
    "Var3 = Hello 3 = Var4;"
   ]
  },
  {
   "cell_type": "markdown",
   "metadata": {},
   "source": [
    "All 3 are wrong"
   ]
  },
  {
   "cell_type": "markdown",
   "metadata": {},
   "source": [
    "#### 6. Assume the variables result, w, x, y, and z are all integers, and that w = 5, x = 4, y = 8, and z = 2. What value will be stored in result after each of the following statements execute?\n",
    "    - a. result= x+ y ;\n",
    "    - b.result= z * 2 ;\n",
    "    - c. result = y / x ;\n",
    "    - d.result= y – z ;\n",
    "    - e. result= w % z;"
   ]
  },
  {
   "cell_type": "code",
   "execution_count": 31,
   "metadata": {},
   "outputs": [],
   "source": [
    "int w = 5;\n",
    "int x = 4;\n",
    "int y = 8;\n",
    "int z = 2;\n",
    "int result;"
   ]
  },
  {
   "cell_type": "code",
   "execution_count": 33,
   "metadata": {},
   "outputs": [
    {
     "name": "stdout",
     "output_type": "stream",
     "text": [
      "12\n"
     ]
    }
   ],
   "source": [
    "result= x+ y;\n",
    "System.out.println(result);"
   ]
  },
  {
   "cell_type": "code",
   "execution_count": 34,
   "metadata": {},
   "outputs": [
    {
     "name": "stdout",
     "output_type": "stream",
     "text": [
      "4\n"
     ]
    }
   ],
   "source": [
    "result= z * 2;\n",
    "System.out.println(result);"
   ]
  },
  {
   "cell_type": "code",
   "execution_count": 35,
   "metadata": {},
   "outputs": [
    {
     "name": "stdout",
     "output_type": "stream",
     "text": [
      "2\n"
     ]
    }
   ],
   "source": [
    "result= y / x;\n",
    "System.out.println(result);"
   ]
  },
  {
   "cell_type": "code",
   "execution_count": 36,
   "metadata": {},
   "outputs": [
    {
     "name": "stdout",
     "output_type": "stream",
     "text": [
      "6\n"
     ]
    }
   ],
   "source": [
    "result= y - z;\n",
    "System.out.println(result);"
   ]
  },
  {
   "cell_type": "code",
   "execution_count": 37,
   "metadata": {},
   "outputs": [
    {
     "name": "stdout",
     "output_type": "stream",
     "text": [
      "1\n"
     ]
    }
   ],
   "source": [
    "result= w % z;\n",
    "System.out.println(result);"
   ]
  },
  {
   "cell_type": "markdown",
   "metadata": {},
   "source": [
    "#### 7. Write a Java code that assigns the sum of 10 and 14 to the variable total and display the same"
   ]
  },
  {
   "cell_type": "code",
   "execution_count": 38,
   "metadata": {},
   "outputs": [],
   "source": [
    "public class GetSum{\n",
    "    public static void main(String args[]){\n",
    "        int sum = 10 + 14;\n",
    "        System.out.printf(\"Sum is %s\", sum);\n",
    "    }\n",
    "}"
   ]
  },
  {
   "cell_type": "code",
   "execution_count": 39,
   "metadata": {},
   "outputs": [
    {
     "name": "stdout",
     "output_type": "stream",
     "text": [
      "Sum is 24"
     ]
    }
   ],
   "source": [
    "new GetSum().main(new String[0]);"
   ]
  },
  {
   "cell_type": "markdown",
   "metadata": {},
   "source": [
    "#### 8. Write a Java code that subtracts the variable down_payment from the variable total and assigns the result to the variable due."
   ]
  },
  {
   "cell_type": "code",
   "execution_count": 45,
   "metadata": {},
   "outputs": [],
   "source": [
    "public class DownPayment{\n",
    "    public static void main(String args[]){\n",
    "        int down_payment = 10000;\n",
    "        int total = 50000;\n",
    "        int due = total - down_payment;\n",
    "        System.out.printf(\"Total due amount is %s\", due);\n",
    "    }\n",
    "}"
   ]
  },
  {
   "cell_type": "code",
   "execution_count": 46,
   "metadata": {},
   "outputs": [
    {
     "name": "stdout",
     "output_type": "stream",
     "text": [
      "Total due amount is 40000"
     ]
    }
   ],
   "source": [
    "new DownPayment().main(new String[0]);"
   ]
  },
  {
   "cell_type": "markdown",
   "metadata": {},
   "source": [
    "#### 9. Write a Java statement that multiplies the variable subtotal by 0.15 and assigns the result to the variable total. Write program to demonstrate the outcome of the above program"
   ]
  },
  {
   "cell_type": "code",
   "execution_count": 48,
   "metadata": {},
   "outputs": [],
   "source": [
    "public class GetTotal{\n",
    "    public static void main(String args[]){\n",
    "        int subtotal = 10000;\n",
    "        double total = subtotal * 0.15;\n",
    "        System.out.printf(\"Total is %s\", total);\n",
    "    }\n",
    "}"
   ]
  },
  {
   "cell_type": "code",
   "execution_count": 49,
   "metadata": {},
   "outputs": [
    {
     "name": "stdout",
     "output_type": "stream",
     "text": [
      "Total is 1500.0"
     ]
    }
   ],
   "source": [
    "new GetTotal().main(new String[0]);"
   ]
  },
  {
   "cell_type": "markdown",
   "metadata": {},
   "source": [
    "#### 10. What would the following display?\n",
    "a=5; <br>\n",
    "b=2; <br>\n",
    "c=3; <br>\n",
    "result = a + b * c; <br>\n",
    "System.out.println(result); <br>"
   ]
  },
  {
   "cell_type": "code",
   "execution_count": 50,
   "metadata": {},
   "outputs": [
    {
     "ename": "CompilationException",
     "evalue": "",
     "output_type": "error",
     "traceback": [
      "\u001b[1m\u001b[30m|   \u001b[1m\u001b[30m\u001b[0m\u001b[1m\u001b[30m\u001b[41ma\u001b[0m\u001b[1m\u001b[30m=5;\u001b[0m",
      "\u001b[1m\u001b[31mcannot find symbol\u001b[0m",
      "\u001b[1m\u001b[31m  symbol:   variable a\u001b[0m",
      ""
     ]
    }
   ],
   "source": [
    "a=5; \n",
    "b=2; \n",
    "c=3; \n",
    "result = a + b * c; \n",
    "System.out.println(result); "
   ]
  },
  {
   "cell_type": "code",
   "execution_count": 51,
   "metadata": {},
   "outputs": [
    {
     "name": "stdout",
     "output_type": "stream",
     "text": [
      "11\n"
     ]
    }
   ],
   "source": [
    "int a=5; \n",
    "int b=2; \n",
    "int c=3; \n",
    "int result = a + b * c; \n",
    "System.out.println(result); "
   ]
  },
  {
   "cell_type": "markdown",
   "metadata": {},
   "source": [
    "#### 11. Will the following code print an error? If not, what will be the output?\n",
    "a = 20;<br>\n",
    "b = 40;<br>\n",
    "c = 30;<br>\n",
    "(x, y, z) = (a, b, c);<br>\n",
    "System.out.print(x, y, z);"
   ]
  },
  {
   "cell_type": "code",
   "execution_count": 54,
   "metadata": {},
   "outputs": [
    {
     "ename": "CompilationException",
     "evalue": "",
     "output_type": "error",
     "traceback": [
      "\u001b[1m\u001b[30m|   \u001b[1m\u001b[30m(x\u001b[0m\u001b[1m\u001b[30m\u001b[41m\u001b[0m\u001b[1m\u001b[30m, y, z) = (a, b, c);\u001b[0m",
      "\u001b[1m\u001b[31m')' expected\u001b[0m",
      ""
     ]
    }
   ],
   "source": [
    "int a = 20;\n",
    "int b = 40;\n",
    "int c = 30;\n",
    "(x, y, z) = (a, b, c);\n",
    "System.out.print(x, y, z);"
   ]
  },
  {
   "cell_type": "markdown",
   "metadata": {},
   "source": [
    "#### 12. Assume the variable sales references a double value. Write a statement that displays the value rounded to two decimal points."
   ]
  },
  {
   "cell_type": "code",
   "execution_count": 59,
   "metadata": {},
   "outputs": [
    {
     "name": "stdout",
     "output_type": "stream",
     "text": [
      "10.12"
     ]
    },
    {
     "data": {
      "text/plain": [
       "java.io.PrintStream@4ce9e919"
      ]
     },
     "execution_count": 59,
     "metadata": {},
     "output_type": "execute_result"
    }
   ],
   "source": [
    "Double sales = 10.1234;\n",
    "System.out.printf(\"%.2f\", sales);"
   ]
  },
  {
   "cell_type": "markdown",
   "metadata": {},
   "source": [
    "#### 13. Assume the following statement has been executed:\n",
    "number = 1234567.456 \n",
    "#### Write a Java statement that displays the value referenced by the number variable formatted as 1,234,567.5"
   ]
  },
  {
   "cell_type": "code",
   "execution_count": 63,
   "metadata": {},
   "outputs": [
    {
     "name": "stdout",
     "output_type": "stream",
     "text": [
      "1,234,567.5\n"
     ]
    }
   ],
   "source": [
    "import java.text.DecimalFormat;\n",
    "\n",
    "double number = 1234567.456;\n",
    "DecimalFormat formatter = new DecimalFormat(\"###,###,###.0\");\n",
    "System.out.println(formatter.format(number));"
   ]
  },
  {
   "cell_type": "code",
   "execution_count": null,
   "metadata": {},
   "outputs": [],
   "source": []
  }
 ],
 "metadata": {
  "kernelspec": {
   "display_name": "Java",
   "language": "java",
   "name": "java"
  },
  "language_info": {
   "codemirror_mode": "java",
   "file_extension": ".jshell",
   "mimetype": "text/x-java-source",
   "name": "Java",
   "pygments_lexer": "java",
   "version": "11.0.3+7-Ubuntu-1ubuntu218.04.1"
  }
 },
 "nbformat": 4,
 "nbformat_minor": 2
}
